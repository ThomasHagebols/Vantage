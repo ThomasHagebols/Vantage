{
 "cells": [
  {
   "cell_type": "markdown",
   "metadata": {
    "slideshow": {
     "slide_type": "slide"
    }
   },
   "source": [
    "<center>\n",
    "    <h1>Tanzania Water Pumps</h1>\n",
    "    <h3>The good, the bad and the broken</h3>\n",
    "</center>\n",
    "<p>\n",
    "<center>\n",
    "    <small>Thomas Hagebols</small>\n",
    "</center>\n",
    "</p>"
   ]
  },
  {
   "cell_type": "markdown",
   "metadata": {
    "slideshow": {
     "slide_type": "slide"
    }
   },
   "source": [
    "## Problem\n",
    "- Water pumps in Tanzania break\n",
    "\n",
    "### Goal\n",
    "- Improve cost of maintenance\n",
    "- Prevent break downs"
   ]
  },
  {
   "cell_type": "markdown",
   "metadata": {
    "slideshow": {
     "slide_type": "slide"
    }
   },
   "source": [
    "## Solution\n",
    "- Current\n",
    "  - Scheduled maintenance\n",
    "  - Corrective maintenance \n",
    "- Aimed\n",
    "  - Predictive maintenance &uarr;\n",
    "  - Corrective maintenance &darr;"
   ]
  },
  {
   "cell_type": "markdown",
   "metadata": {
    "slideshow": {
     "slide_type": "subslide"
    }
   },
   "source": [
    "## Scope\n",
    "- Classifier to predict pump failure"
   ]
  },
  {
   "cell_type": "code",
   "execution_count": 1,
   "metadata": {
    "slideshow": {
     "slide_type": "skip"
    }
   },
   "outputs": [],
   "source": [
    "# Import dependencies\n",
    "from sklearn.metrics import accuracy_score, confusion_matrix, precision_recall_fscore_support\n",
    "from sklearn.model_selection import GridSearchCV\n",
    "from sklearn import tree\n",
    "from sklearn.compose import ColumnTransformer\n",
    "from sklearn.pipeline import Pipeline\n",
    "from sklearn.impute import SimpleImputer\n",
    "from sklearn.preprocessing import LabelEncoder\n",
    "from sklearn.model_selection import train_test_split\n",
    "from sklearn.utils.multiclass import unique_labels\n",
    "import matplotlib.pyplot as plt\n",
    "from imblearn.over_sampling import SMOTE\n",
    "from imblearn.pipeline import make_pipeline\n",
    "from IPython.display import display, Markdown\n",
    "import numpy as np\n",
    "import pandas as pd\n",
    "import qgrid"
   ]
  },
  {
   "cell_type": "code",
   "execution_count": 2,
   "metadata": {
    "slideshow": {
     "slide_type": "skip"
    }
   },
   "outputs": [
    {
     "data": {
      "text/plain": [
       "id                         int64\n",
       "amount_tsh               float64\n",
       "date_recorded             object\n",
       "funder                    object\n",
       "gps_height                 int64\n",
       "installer                 object\n",
       "longitude                float64\n",
       "latitude                 float64\n",
       "wpt_name                  object\n",
       "num_private                int64\n",
       "basin                     object\n",
       "subvillage                object\n",
       "region                    object\n",
       "region_code                int64\n",
       "district_code              int64\n",
       "lga                       object\n",
       "ward                      object\n",
       "population                 int64\n",
       "public_meeting            object\n",
       "recorded_by               object\n",
       "scheme_management         object\n",
       "scheme_name               object\n",
       "permit                    object\n",
       "construction_year          int64\n",
       "extraction_type           object\n",
       "extraction_type_group     object\n",
       "extraction_type_class     object\n",
       "management                object\n",
       "management_group          object\n",
       "payment                   object\n",
       "payment_type              object\n",
       "water_quality             object\n",
       "quality_group             object\n",
       "quantity                  object\n",
       "quantity_group            object\n",
       "source                    object\n",
       "source_type               object\n",
       "source_class              object\n",
       "waterpoint_type           object\n",
       "waterpoint_type_group     object\n",
       "dtype: object"
      ]
     },
     "execution_count": 2,
     "metadata": {},
     "output_type": "execute_result"
    }
   ],
   "source": [
    "# Load data\n",
    "water_pump_set = pd.read_csv(\"data/water_pump_set.csv\")\n",
    "water_pump_labels = pd.read_csv(\"data/water_pump_labels.csv\")\n",
    "\n",
    "full_dataset = pd.merge(water_pump_set, water_pump_labels, on=\"id\")\n",
    "full_dataset.nunique()\n",
    "water_pump_set.dtypes"
   ]
  },
  {
   "cell_type": "markdown",
   "metadata": {
    "slideshow": {
     "slide_type": "slide"
    }
   },
   "source": [
    "## Dataset\n",
    "- **Records**: 59400\n",
    "- **Features**: 39\n",
    "  - **Location info**: longidude, latitude, altitude, basin, subvillage, region, region_code, district_code, lga, ward\n",
    "  - **Pump info**: waterpoint_type, waterpoint_group, extraction_type, extraction_type_group, extraction_type_class, construction_year, wpt_name, installer\n",
    "  - **Organizational**: scheme_management, scheme_name, permit, management, management_group\n",
    "  - **Financial**: funder, payment, payment_type\n",
    "  - **Water**: amount_tsh, water_quality, quality_group, quantity, quantity_group, source, source_type, source_class\n",
    "  - **Users**: population, public_meeting\n",
    "  - **sample info**: date_recorded, recorded_by\n",
    "- **Labels**: 'Functional', 'Non functional', 'Functional needs repair'"
   ]
  },
  {
   "cell_type": "code",
   "execution_count": 3,
   "metadata": {
    "slideshow": {
     "slide_type": "skip"
    }
   },
   "outputs": [
    {
     "data": {
      "text/plain": [
       "id                       59400\n",
       "amount_tsh                  98\n",
       "date_recorded              356\n",
       "funder                    1897\n",
       "gps_height                2428\n",
       "installer                 2145\n",
       "longitude                57516\n",
       "latitude                 57517\n",
       "wpt_name                 37400\n",
       "num_private                 65\n",
       "basin                        9\n",
       "subvillage               19287\n",
       "region                      21\n",
       "region_code                 27\n",
       "district_code               20\n",
       "lga                        125\n",
       "ward                      2092\n",
       "population                1049\n",
       "public_meeting               2\n",
       "recorded_by                  1\n",
       "scheme_management           12\n",
       "scheme_name               2696\n",
       "permit                       2\n",
       "construction_year           55\n",
       "extraction_type             18\n",
       "extraction_type_group       13\n",
       "extraction_type_class        7\n",
       "management                  12\n",
       "management_group             5\n",
       "payment                      7\n",
       "payment_type                 7\n",
       "water_quality                8\n",
       "quality_group                6\n",
       "quantity                     5\n",
       "quantity_group               5\n",
       "source                      10\n",
       "source_type                  7\n",
       "source_class                 3\n",
       "waterpoint_type              7\n",
       "waterpoint_type_group        6\n",
       "status_group                 3\n",
       "dtype: int64"
      ]
     },
     "execution_count": 3,
     "metadata": {},
     "output_type": "execute_result"
    }
   ],
   "source": [
    "full_dataset = pd.merge(water_pump_set, water_pump_labels, on=\"id\")\n",
    "full_dataset.nunique()"
   ]
  },
  {
   "cell_type": "markdown",
   "metadata": {
    "slideshow": {
     "slide_type": "skip"
    }
   },
   "source": [
    "## Questions about dataset\n",
    "- What is num_private\n",
    "- Why are there more region codes 27 than regions 21"
   ]
  },
  {
   "cell_type": "markdown",
   "metadata": {
    "slideshow": {
     "slide_type": "slide"
    }
   },
   "source": [
    "## Feature selection\n",
    "- Domain knowledge based (41 -> 27 features)\n",
    "  - Remove duplicate features\n",
    "  - Remove unrelated features\n",
    "- Model based feature selection\n",
    "  - Decision Tree: Gini efficiency"
   ]
  },
  {
   "cell_type": "markdown",
   "metadata": {
    "slideshow": {
     "slide_type": "subslide"
    }
   },
   "source": [
    "### Domain knowledge based feature selection\n",
    "- recorded_by: all recorded by same company\n",
    "- id: does not hold any predictive value\n",
    "- wpt_name: every water point has it's own name\n",
    "- region_code: contains roughly the same data as region\n",
    "- extraction_type_group and extraction_type_class: contain the same information as extraction_type\n",
    "- quantity_group: roughly the same as quantity\n",
    "- quality_group: contains same information as water_quality\n",
    "- payment_type: roughly same as payment\n",
    "- source_type and source_class: contains roughly same information as source\n",
    "- num_private: No clue what this feature means\n",
    "- subvillage: Not enough observations per subvillage category\n",
    "- scheme_name: Not enough observations per scheme_name category"
   ]
  },
  {
   "cell_type": "code",
   "execution_count": 4,
   "metadata": {
    "slideshow": {
     "slide_type": "skip"
    }
   },
   "outputs": [],
   "source": [
    "drop_list = ['id', 'recorded_by', 'wpt_name', 'region_code',\n",
    "             'extraction_type_group', 'extraction_type_class',\n",
    "             'quantity_group', 'quality_group', 'payment_type',\n",
    "             'source_type', 'source_class',\n",
    "             'waterpoint_type_group', 'num_private',\n",
    "             'subvillage', 'scheme_name', \n",
    "]\n",
    "\n",
    "filtered_features = full_dataset.drop(drop_list, axis=1)"
   ]
  },
  {
   "cell_type": "markdown",
   "metadata": {
    "slideshow": {
     "slide_type": "subslide"
    }
   },
   "source": [
    "## Feature engineering\n",
    "- Handle missing values\n",
    "  - Find missing values: **0, nan, unknown, -**\n",
    "  - Categorical -> most common category\n",
    "  - Numerical -> mode\n",
    "- Age of pump during inspection"
   ]
  },
  {
   "cell_type": "code",
   "execution_count": 5,
   "metadata": {
    "slideshow": {
     "slide_type": "skip"
    }
   },
   "outputs": [
    {
     "data": {
      "text/plain": [
       "amount_tsh              97\n",
       "date_recorded          356\n",
       "funder                1896\n",
       "gps_height            2427\n",
       "installer             2143\n",
       "longitude            57515\n",
       "latitude             57516\n",
       "basin                    9\n",
       "region                  21\n",
       "district_code           20\n",
       "lga                    125\n",
       "ward                  2092\n",
       "population            1048\n",
       "public_meeting           2\n",
       "scheme_management       10\n",
       "permit                   2\n",
       "construction_year       55\n",
       "extraction_type         18\n",
       "management              12\n",
       "management_group         5\n",
       "payment                  7\n",
       "water_quality            8\n",
       "quantity                 5\n",
       "source                  10\n",
       "waterpoint_type          7\n",
       "status_group             3\n",
       "age                     64\n",
       "dtype: int64"
      ]
     },
     "execution_count": 5,
     "metadata": {},
     "output_type": "execute_result"
    }
   ],
   "source": [
    "filtered_features[\"date_recorded\"] = pd.to_datetime(filtered_features[\"date_recorded\"])\n",
    "filtered_features[\"age\"] = filtered_features[\"date_recorded\"].dt.year.sub(filtered_features[\"construction_year\"], fill_value=-1)\n",
    "\n",
    "# fixing 0, -, \"\" and other missing values\n",
    "filtered_features['amount_tsh'].replace(to_replace=0, value=np.nan, inplace=True)\n",
    "filtered_features['funder'].replace({\"0\": np.nan}, inplace=True)\n",
    "filtered_features['gps_height'].replace(to_replace=0, value=np.nan, inplace=True)\n",
    "filtered_features['installer'].replace({\"0\": np.nan, \"-\": np.nan}, inplace=True)\n",
    "filtered_features['longitude'].replace({0: np.nan}, inplace=True)\n",
    "filtered_features['latitude'].replace({-2e-8: np.nan}, inplace=True)\n",
    "filtered_features['latitude'].replace({-2e-8: np.nan}, inplace=True)\n",
    "filtered_features['population'].replace({0: np.nan}, inplace=True)\n",
    "filtered_features['scheme_management'].replace({\"None\": np.nan, \"Company\": np.nan}, inplace=True)\n",
    "filtered_features[\"age\"].replace({-1: np.nan}, inplace=True)\n",
    "\n",
    "filtered_features.nunique()"
   ]
  },
  {
   "cell_type": "code",
   "execution_count": 6,
   "metadata": {
    "slideshow": {
     "slide_type": "skip"
    }
   },
   "outputs": [
    {
     "data": {
      "application/vnd.jupyter.widget-view+json": {
       "model_id": "a24dd22b43504059bb870401b96f738d",
       "version_major": 2,
       "version_minor": 0
      },
      "text/plain": [
       "QgridWidget(grid_options={'defaultColumnWidth': 100, 'boldIndex': True, 'enableColumnReorder': False, 'fullWid…"
      ]
     },
     "metadata": {},
     "output_type": "display_data"
    }
   ],
   "source": [
    "qgrid.show_grid(filtered_features, grid_options={'forceFitColumns': False, 'defaultColumnWidth': 100,})"
   ]
  },
  {
   "cell_type": "markdown",
   "metadata": {
    "slideshow": {
     "slide_type": "skip"
    }
   },
   "source": [
    "### Fix types"
   ]
  },
  {
   "cell_type": "code",
   "execution_count": 7,
   "metadata": {
    "slideshow": {
     "slide_type": "skip"
    }
   },
   "outputs": [
    {
     "data": {
      "text/plain": [
       "amount_tsh            float64\n",
       "date_recorded           int64\n",
       "funder               category\n",
       "gps_height            float64\n",
       "installer            category\n",
       "longitude             float64\n",
       "latitude              float64\n",
       "basin                category\n",
       "region               category\n",
       "district_code           int64\n",
       "lga                  category\n",
       "ward                 category\n",
       "population            float64\n",
       "public_meeting       category\n",
       "scheme_management    category\n",
       "permit               category\n",
       "construction_year       int64\n",
       "extraction_type      category\n",
       "management           category\n",
       "management_group     category\n",
       "payment              category\n",
       "water_quality        category\n",
       "quantity             category\n",
       "source               category\n",
       "waterpoint_type      category\n",
       "status_group         category\n",
       "age                   float64\n",
       "dtype: object"
      ]
     },
     "execution_count": 7,
     "metadata": {},
     "output_type": "execute_result"
    }
   ],
   "source": [
    "numeric_features = [\"amount_tsh\", \"gps_height\", \"longitude\",\n",
    "                    \"latitude\", \"district_code\", \"population\",\n",
    "                    \"construction_year\", \"age\", \"date_recorded\"]\n",
    "\n",
    "categorical_features = [\"funder\", \"installer\", \"basin\",\n",
    "                        \"region\", \"lga\", \"ward\", \"public_meeting\",\n",
    "                        \"scheme_management\", \"permit\", \"extraction_type\",\n",
    "                        \"management\", \"management_group\", \"payment\",\n",
    "                        \"water_quality\", \"quantity\", \"source\",\n",
    "                        \"waterpoint_type\", \"status_group\"]\n",
    "\n",
    "# Convert to categorical features\n",
    "for feature in categorical_features:\n",
    "    filtered_features[feature] = filtered_features[feature].astype(\"category\")\n",
    "\n",
    "# Convert datetime to float\n",
    "filtered_features[\"date_recorded\"] = pd.to_numeric(filtered_features[\"date_recorded\"])\n",
    "\n",
    "filtered_features.dtypes"
   ]
  },
  {
   "cell_type": "markdown",
   "metadata": {
    "slideshow": {
     "slide_type": "skip"
    }
   },
   "source": [
    "## Preprocessing\n",
    "- Replace missing values\n",
    "- Convert categorical features to be interpretable for sklearn"
   ]
  },
  {
   "cell_type": "code",
   "execution_count": 8,
   "metadata": {
    "slideshow": {
     "slide_type": "skip"
    }
   },
   "outputs": [],
   "source": [
    "X = filtered_features.drop(\"status_group\", axis=1)\n",
    "Y = filtered_features[\"status_group\"]\n",
    "\n",
    "try:\n",
    "    categorical_features.remove(\"status_group\")\n",
    "except:\n",
    "    pass\n",
    "\n",
    "numeric_transformer = Pipeline(steps=[\n",
    "    ('imputer', SimpleImputer(strategy='median'))])\n",
    "\n",
    "categorical_transformer = Pipeline(steps=[\n",
    "    ('imputer', SimpleImputer(strategy='most_frequent'))])\n",
    "\n",
    "preprocessor = ColumnTransformer(\n",
    "    transformers=[\n",
    "        ('num', numeric_transformer, numeric_features),\n",
    "        ('cat', categorical_transformer, categorical_features)])\n",
    "\n",
    "X = preprocessor.fit_transform(X)\n",
    "\n",
    "X = pd.DataFrame(X, columns=numeric_features+categorical_features)\n",
    "\n",
    "for feature in categorical_features:\n",
    "    X[feature] = LabelEncoder().fit_transform(X[feature])"
   ]
  },
  {
   "cell_type": "code",
   "execution_count": 9,
   "metadata": {
    "slideshow": {
     "slide_type": "skip"
    }
   },
   "outputs": [
    {
     "data": {
      "application/vnd.jupyter.widget-view+json": {
       "model_id": "1cf1074d84a1479991f48026a070be80",
       "version_major": 2,
       "version_minor": 0
      },
      "text/plain": [
       "QgridWidget(grid_options={'defaultColumnWidth': 100, 'boldIndex': True, 'enableColumnReorder': False, 'fullWid…"
      ]
     },
     "metadata": {},
     "output_type": "display_data"
    }
   ],
   "source": [
    "qgrid.show_grid(X, grid_options={'forceFitColumns': False, 'defaultColumnWidth': 100,})"
   ]
  },
  {
   "cell_type": "markdown",
   "metadata": {
    "slideshow": {
     "slide_type": "slide"
    }
   },
   "source": [
    "## Model based feature selection"
   ]
  },
  {
   "cell_type": "code",
   "execution_count": 10,
   "metadata": {
    "slideshow": {
     "slide_type": "skip"
    }
   },
   "outputs": [],
   "source": [
    "x_train, x_test, y_train, y_test = train_test_split(X, Y, random_state=0, test_size=.2)\n",
    "\n",
    "clf = tree.DecisionTreeClassifier()\n",
    "clf = clf.fit(x_train, y_train)\n",
    "\n",
    "y_hat = clf.predict(x_test)\n",
    "accuracy_score(y_test, y_hat)\n",
    "\n",
    "feature_importance = pd.DataFrame(clf.feature_importances_, index=X.columns, columns=[\"Gini index\"])"
   ]
  },
  {
   "cell_type": "code",
   "execution_count": 11,
   "metadata": {
    "slideshow": {
     "slide_type": "skip"
    }
   },
   "outputs": [
    {
     "data": {
      "text/html": [
       "<div>\n",
       "<style scoped>\n",
       "    .dataframe tbody tr th:only-of-type {\n",
       "        vertical-align: middle;\n",
       "    }\n",
       "\n",
       "    .dataframe tbody tr th {\n",
       "        vertical-align: top;\n",
       "    }\n",
       "\n",
       "    .dataframe thead th {\n",
       "        text-align: right;\n",
       "    }\n",
       "</style>\n",
       "<table border=\"1\" class=\"dataframe\">\n",
       "  <thead>\n",
       "    <tr style=\"text-align: right;\">\n",
       "      <th></th>\n",
       "      <th>Gini index</th>\n",
       "    </tr>\n",
       "  </thead>\n",
       "  <tbody>\n",
       "    <tr>\n",
       "      <th>amount_tsh</th>\n",
       "      <td>0.008359</td>\n",
       "    </tr>\n",
       "    <tr>\n",
       "      <th>gps_height</th>\n",
       "      <td>0.063028</td>\n",
       "    </tr>\n",
       "    <tr>\n",
       "      <th>longitude</th>\n",
       "      <td>0.136628</td>\n",
       "    </tr>\n",
       "    <tr>\n",
       "      <th>latitude</th>\n",
       "      <td>0.135194</td>\n",
       "    </tr>\n",
       "    <tr>\n",
       "      <th>district_code</th>\n",
       "      <td>0.008812</td>\n",
       "    </tr>\n",
       "    <tr>\n",
       "      <th>population</th>\n",
       "      <td>0.041697</td>\n",
       "    </tr>\n",
       "    <tr>\n",
       "      <th>construction_year</th>\n",
       "      <td>0.026533</td>\n",
       "    </tr>\n",
       "    <tr>\n",
       "      <th>age</th>\n",
       "      <td>0.023274</td>\n",
       "    </tr>\n",
       "    <tr>\n",
       "      <th>date_recorded</th>\n",
       "      <td>0.047471</td>\n",
       "    </tr>\n",
       "    <tr>\n",
       "      <th>funder</th>\n",
       "      <td>0.035289</td>\n",
       "    </tr>\n",
       "    <tr>\n",
       "      <th>installer</th>\n",
       "      <td>0.024272</td>\n",
       "    </tr>\n",
       "    <tr>\n",
       "      <th>basin</th>\n",
       "      <td>0.009676</td>\n",
       "    </tr>\n",
       "    <tr>\n",
       "      <th>region</th>\n",
       "      <td>0.017154</td>\n",
       "    </tr>\n",
       "    <tr>\n",
       "      <th>lga</th>\n",
       "      <td>0.019744</td>\n",
       "    </tr>\n",
       "    <tr>\n",
       "      <th>ward</th>\n",
       "      <td>0.038262</td>\n",
       "    </tr>\n",
       "    <tr>\n",
       "      <th>public_meeting</th>\n",
       "      <td>0.003919</td>\n",
       "    </tr>\n",
       "    <tr>\n",
       "      <th>scheme_management</th>\n",
       "      <td>0.008510</td>\n",
       "    </tr>\n",
       "    <tr>\n",
       "      <th>permit</th>\n",
       "      <td>0.005546</td>\n",
       "    </tr>\n",
       "    <tr>\n",
       "      <th>extraction_type</th>\n",
       "      <td>0.020378</td>\n",
       "    </tr>\n",
       "    <tr>\n",
       "      <th>management</th>\n",
       "      <td>0.014928</td>\n",
       "    </tr>\n",
       "    <tr>\n",
       "      <th>management_group</th>\n",
       "      <td>0.003523</td>\n",
       "    </tr>\n",
       "    <tr>\n",
       "      <th>payment</th>\n",
       "      <td>0.026207</td>\n",
       "    </tr>\n",
       "    <tr>\n",
       "      <th>water_quality</th>\n",
       "      <td>0.010141</td>\n",
       "    </tr>\n",
       "    <tr>\n",
       "      <th>quantity</th>\n",
       "      <td>0.153756</td>\n",
       "    </tr>\n",
       "    <tr>\n",
       "      <th>source</th>\n",
       "      <td>0.030835</td>\n",
       "    </tr>\n",
       "    <tr>\n",
       "      <th>waterpoint_type</th>\n",
       "      <td>0.086863</td>\n",
       "    </tr>\n",
       "  </tbody>\n",
       "</table>\n",
       "</div>"
      ],
      "text/plain": [
       "                   Gini index\n",
       "amount_tsh           0.008359\n",
       "gps_height           0.063028\n",
       "longitude            0.136628\n",
       "latitude             0.135194\n",
       "district_code        0.008812\n",
       "population           0.041697\n",
       "construction_year    0.026533\n",
       "age                  0.023274\n",
       "date_recorded        0.047471\n",
       "funder               0.035289\n",
       "installer            0.024272\n",
       "basin                0.009676\n",
       "region               0.017154\n",
       "lga                  0.019744\n",
       "ward                 0.038262\n",
       "public_meeting       0.003919\n",
       "scheme_management    0.008510\n",
       "permit               0.005546\n",
       "extraction_type      0.020378\n",
       "management           0.014928\n",
       "management_group     0.003523\n",
       "payment              0.026207\n",
       "water_quality        0.010141\n",
       "quantity             0.153756\n",
       "source               0.030835\n",
       "waterpoint_type      0.086863"
      ]
     },
     "metadata": {},
     "output_type": "display_data"
    }
   ],
   "source": [
    "display(feature_importance)"
   ]
  },
  {
   "cell_type": "code",
   "execution_count": 12,
   "metadata": {
    "slideshow": {
     "slide_type": "subslide"
    }
   },
   "outputs": [
    {
     "data": {
      "image/png": "[encoded data removed]",
      "text/plain": [
       "<Figure size 432x288 with 1 Axes>"
      ]
     },
     "metadata": {
      "needs_background": "light"
     },
     "output_type": "display_data"
    }
   ],
   "source": [
    "feature_importance.plot.bar()\n",
    "plt.show()"
   ]
  },
  {
   "cell_type": "code",
   "execution_count": 13,
   "metadata": {
    "slideshow": {
     "slide_type": "skip"
    }
   },
   "outputs": [],
   "source": [
    "def plot_confusion_matrix(y_true, y_pred, classes,\n",
    "                          normalize=False,\n",
    "                          title=None,\n",
    "                          cmap=plt.cm.Blues):\n",
    "    \"\"\"\n",
    "    This function prints and plots the confusion matrix.\n",
    "    Normalization can be applied by setting `normalize=True`.\n",
    "    \"\"\"\n",
    "    if not title:\n",
    "        if normalize:\n",
    "            title = 'Normalized confusion matrix'\n",
    "        else:\n",
    "            title = 'Confusion matrix, without normalization'\n",
    "\n",
    "    # Compute confusion matrix\n",
    "    cm = confusion_matrix(y_true, y_pred)\n",
    "\n",
    "    if normalize:\n",
    "        cm = cm.astype('float') / cm.sum(axis=1)[:, np.newaxis]\n",
    "#         print(\"Normalized confusion matrix\")\n",
    "    else:\n",
    "#         print('Confusion matrix, without normalization')\n",
    "        pass\n",
    "\n",
    "    # print(cm)\n",
    "\n",
    "    fig, ax = plt.subplots()\n",
    "    im = ax.imshow(cm, interpolation='nearest', cmap=cmap)\n",
    "    ax.figure.colorbar(im, ax=ax)\n",
    "    # We want to show all ticks...\n",
    "    ax.set(xticks=np.arange(cm.shape[1]),\n",
    "           yticks=np.arange(cm.shape[0]),\n",
    "           # ... and label them with the respective list entries\n",
    "           xticklabels=classes, yticklabels=classes,\n",
    "           title=title,\n",
    "           ylabel='True label',\n",
    "           xlabel='Predicted label')\n",
    "\n",
    "    # Rotate the tick labels and set their alignment.\n",
    "    plt.setp(ax.get_xticklabels(), rotation=45, ha=\"right\",\n",
    "             rotation_mode=\"anchor\")\n",
    "\n",
    "    # Loop over data dimensions and create text annotations.\n",
    "    fmt = '.2f' if normalize else 'd'\n",
    "    thresh = cm.max() / 2.\n",
    "    for i in range(cm.shape[0]):\n",
    "        for j in range(cm.shape[1]):\n",
    "            ax.text(j, i, format(cm[i, j], fmt),\n",
    "                    ha=\"center\", va=\"center\",\n",
    "                    color=\"white\" if cm[i, j] > thresh else \"black\")\n",
    "    fig.tight_layout()\n",
    "    ax.set_title(\"Confusion matrix\")\n",
    "    return ax"
   ]
  },
  {
   "cell_type": "markdown",
   "metadata": {
    "slideshow": {
     "slide_type": "slide"
    }
   },
   "source": [
    "## Training\n",
    "- Unbalanced dataset\n",
    "  - SMOTE (Synthetic Minority Over-sampling Technique)\n",
    "- Decision tree for interpretability\n",
    "- Grid search (depth, min sample split, min leaf split)"
   ]
  },
  {
   "cell_type": "code",
   "execution_count": 14,
   "metadata": {
    "slideshow": {
     "slide_type": "skip"
    }
   },
   "outputs": [
    {
     "data": {
      "text/plain": [
       "DecisionTreeClassifier(class_weight=None, criterion='gini', max_depth=30,\n",
       "            max_features=None, max_leaf_nodes=None,\n",
       "            min_impurity_decrease=0.0, min_impurity_split=None,\n",
       "            min_samples_leaf=2, min_samples_split=4,\n",
       "            min_weight_fraction_leaf=0.0, presort=False, random_state=None,\n",
       "            splitter='best')"
      ]
     },
     "execution_count": 14,
     "metadata": {},
     "output_type": "execute_result"
    }
   ],
   "source": [
    "# Create train and test model\n",
    "# Smote is an oversampling technique which adds noise to create more samples\n",
    "model = tree.DecisionTreeClassifier()\n",
    "params = {\"max_depth\":[5, 10, 30, 50],\n",
    "          \"min_samples_split\": [2,4,8],\n",
    "          \"min_samples_leaf\": [2,4,8]}\n",
    "grid = GridSearchCV(model,\n",
    "                   param_grid=params,\n",
    "                   cv=3,)\n",
    "pipeline = make_pipeline(SMOTE(),\n",
    "                         grid)\n",
    "\n",
    "pipeline.fit(x_train, y_train)\n",
    "best_model = pipeline.steps[1][1].best_estimator_\n",
    "best_model"
   ]
  },
  {
   "cell_type": "code",
   "execution_count": 15,
   "metadata": {
    "slideshow": {
     "slide_type": "skip"
    }
   },
   "outputs": [],
   "source": [
    "# Train the best model found in the grid search\n",
    "best_model = pipeline.steps[1][1].best_estimator_\n",
    "best_model.fit(x_train, y_train)\n",
    "\n",
    "y_hat = best_model.predict(x_test)\n",
    "\n",
    "# Evaluate results\n",
    "precision, recall, fscore, support = precision_recall_fscore_support(y_test, y_hat)\n",
    "precision = pd.Series(precision, index=y_test.cat.categories, name=\"precision\")\n",
    "recall = pd.Series(recall, index=y_test.cat.categories, name=\"recall\")\n",
    "precision_recall = pd.concat([precision, recall], axis=1)"
   ]
  },
  {
   "cell_type": "markdown",
   "metadata": {
    "slideshow": {
     "slide_type": "slide"
    }
   },
   "source": [
    "## Evaluation\n",
    "- Precision: How many selected items are relevant?\n",
    "- Recall: How many relevant items are selected?\n",
    "- Confusion matrix\n",
    "- Accuracy"
   ]
  },
  {
   "cell_type": "code",
   "execution_count": 16,
   "metadata": {
    "slideshow": {
     "slide_type": "subslide"
    }
   },
   "outputs": [
    {
     "data": {
      "text/markdown": [
       "**Accuracy**: 0.755892"
      ],
      "text/plain": [
       "<IPython.core.display.Markdown object>"
      ]
     },
     "metadata": {},
     "output_type": "display_data"
    }
   ],
   "source": [
    "display(Markdown(\"**Accuracy**: {:4f}\".format(accuracy_score(y_test, y_hat))))"
   ]
  },
  {
   "cell_type": "code",
   "execution_count": 17,
   "metadata": {
    "slideshow": {
     "slide_type": "fragment"
    }
   },
   "outputs": [
    {
     "data": {
      "text/html": [
       "<div>\n",
       "<style scoped>\n",
       "    .dataframe tbody tr th:only-of-type {\n",
       "        vertical-align: middle;\n",
       "    }\n",
       "\n",
       "    .dataframe tbody tr th {\n",
       "        vertical-align: top;\n",
       "    }\n",
       "\n",
       "    .dataframe thead th {\n",
       "        text-align: right;\n",
       "    }\n",
       "</style>\n",
       "<table border=\"1\" class=\"dataframe\">\n",
       "  <thead>\n",
       "    <tr style=\"text-align: right;\">\n",
       "      <th></th>\n",
       "      <th>precision</th>\n",
       "      <th>recall</th>\n",
       "    </tr>\n",
       "  </thead>\n",
       "  <tbody>\n",
       "    <tr>\n",
       "      <th>functional</th>\n",
       "      <td>0.776750</td>\n",
       "      <td>0.833644</td>\n",
       "    </tr>\n",
       "    <tr>\n",
       "      <th>functional needs repair</th>\n",
       "      <td>0.390244</td>\n",
       "      <td>0.350634</td>\n",
       "    </tr>\n",
       "    <tr>\n",
       "      <th>non functional</th>\n",
       "      <td>0.789486</td>\n",
       "      <td>0.723134</td>\n",
       "    </tr>\n",
       "  </tbody>\n",
       "</table>\n",
       "</div>"
      ],
      "text/plain": [
       "                         precision    recall\n",
       "functional                0.776750  0.833644\n",
       "functional needs repair   0.390244  0.350634\n",
       "non functional            0.789486  0.723134"
      ]
     },
     "metadata": {},
     "output_type": "display_data"
    }
   ],
   "source": [
    "display(precision_recall)"
   ]
  },
  {
   "cell_type": "code",
   "execution_count": 18,
   "metadata": {
    "slideshow": {
     "slide_type": "fragment"
    }
   },
   "outputs": [
    {
     "data": {
      "image/png": "[encoded data removed]",
      "text/plain": [
       "<Figure size 432x288 with 2 Axes>"
      ]
     },
     "metadata": {
      "needs_background": "light"
     },
     "output_type": "display_data"
    }
   ],
   "source": [
    "plot = plot_confusion_matrix(y_test, y_hat, list(y_test.cat.categories))"
   ]
  },
  {
   "cell_type": "markdown",
   "metadata": {
    "slideshow": {
     "slide_type": "slide"
    }
   },
   "source": [
    "## Conclusion\n",
    "- Failure can be predicted in most cases\n",
    "- Improve uptime\n",
    "- Decrease cost"
   ]
  },
  {
   "cell_type": "markdown",
   "metadata": {
    "slideshow": {
     "slide_type": "slide"
    }
   },
   "source": [
    "## Future directions\n",
    "- Better feature engineering\n",
    "  - Latitude, longitude and altitude are highly predictive\n",
    "    - Fill out missing data using Google maps geolocate (see code example)\n",
    "- Cross validated random search\n",
    "  - Based on F1 measure or recall\n",
    "- Incorporate this into existing systems?\n",
    "- Rebuild using proper database scheme?\n",
    "- Make a Flask / Djang web app"
   ]
  },
  {
   "cell_type": "markdown",
   "metadata": {
    "slideshow": {
     "slide_type": "subslide"
    }
   },
   "source": [
    "    from geopy.geocoders import Nominatim\n",
    "    from time import sleep\n",
    "\n",
    "    geolocator = Nominatim(user_agent=\"test\")\n",
    "    lga_latlong = {}\n",
    "    for location in filtered_features['lga'].unique():\n",
    "        sleep(0.2)\n",
    "        geo_loc = geolocator.geocode(\"{} Tanzania\".format(location))\n",
    "\n",
    "        if geo_loc is not None:\n",
    "            lga_latlong[location] = {'latitude': geo_loc.latitude, 'longitude': geo_loc.longitude}\n",
    "\n",
    "    lga_latlong"
   ]
  }
 ],
 "metadata": {
  "celltoolbar": "Slideshow",
  "kernelspec": {
   "display_name": "Python 3",
   "language": "python",
   "name": "python3"
  },
  "language_info": {
   "codemirror_mode": {
    "name": "ipython",
    "version": 3
   },
   "file_extension": ".py",
   "mimetype": "text/x-python",
   "name": "python",
   "nbconvert_exporter": "python",
   "pygments_lexer": "ipython3",
   "version": "3.5.6"
  }
 },
 "nbformat": 4,
 "nbformat_minor": 2
}
